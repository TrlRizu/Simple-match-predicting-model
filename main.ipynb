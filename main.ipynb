{
 "cells": [
  {
   "attachments": {},
   "cell_type": "markdown",
   "metadata": {},
   "source": [
    "------------------------------------------------------------------------------\n"
   ]
  },
  {
   "cell_type": "code",
   "execution_count": 215,
   "metadata": {},
   "outputs": [],
   "source": [
    "#Importing the libs\n",
    "\n",
    "import numpy as np\n",
    "import pandas as pd\n",
    "from sklearn.model_selection import train_test_split\n",
    "from sklearn.preprocessing import StandardScaler\n",
    "from keras.models import Sequential\n",
    "from keras.layers import Dense, Dropout"
   ]
  },
  {
   "cell_type": "code",
   "execution_count": 216,
   "metadata": {},
   "outputs": [],
   "source": [
    "# Load the data\n",
    "data = pd.read_csv(\"Fifa_world_cup_matches.csv\")"
   ]
  },
  {
   "cell_type": "code",
   "execution_count": 217,
   "metadata": {},
   "outputs": [
    {
     "name": "stdout",
     "output_type": "stream",
     "text": [
      "            team1         team2  number of goals team1  number of goals team2\n",
      "0           QATAR       ECUADOR                      0                      2\n",
      "1         ENGLAND          IRAN                      6                      2\n",
      "2         SENEGAL   NETHERLANDS                      0                      2\n",
      "3   UNITED STATES         WALES                      1                      1\n",
      "4       ARGENTINA  SAUDI ARABIA                      1                      2\n",
      "..            ...           ...                    ...                    ...\n",
      "59        ENGLAND        FRANCE                      1                      2\n",
      "60      ARGENTINA       CROATIA                      3                      0\n",
      "61         FRANCE       MOROCCO                      2                      0\n",
      "62        CROATIA       MOROCCO                      2                      1\n",
      "63      ARGENTINA        FRANCE                      3                      3\n",
      "\n",
      "[64 rows x 4 columns]\n"
     ]
    }
   ],
   "source": [
    "#Drop unwanted data\n",
    "df = data.drop(columns=['possession team1','possession team2','possession in contest','date','hour','category','total attempts team1','total attempts team2','conceded team1','conceded team2','goal inside the penalty area team1','goal inside the penalty area team2','goal outside the penalty area team1','goal outside the penalty area team2','assists team1','assists team2','on target attempts team1','on target attempts team2','off target attempts team1','off target attempts team2','attempts inside the penalty area team1','attempts inside the penalty area  team2','attempts outside the penalty area  team1','attempts outside the penalty area  team2','left channel team1','left channel team2','left inside channel team1','left inside channel team2','central channel team1','central channel team2','right inside channel team1','right inside channel team2','right channel team1','right channel team2','total offers to receive team1','total offers to receive team2','inbehind offers to receive team1','inbehind offers to receive team2','inbetween offers to receive team1','inbetween offers to receive team2','infront offers to receive team1','infront offers to receive team2','receptions between midfield and defensive lines team1','receptions between midfield and defensive lines team2','attempted line breaks team1','attempted line breaks team2','completed line breaksteam1','completed line breaks team2','attempted defensive line breaks team1','attempted defensive line breaks team2','completed defensive line breaksteam1','completed defensive line breaks team2','yellow cards team1','yellow cards team2','red cards team1','red cards team2','fouls against team1','fouls against team2','offsides team1','offsides team2','passes team1','passes team2','passes completed team1','passes completed team2','crosses team1','crosses team2','crosses completed team1','crosses completed team2','switches of play completed team1','switches of play completed team2','corners team1','corners team2','free kicks team1','free kicks team2','penalties scored team1','penalties scored team2','goal preventions team1','goal preventions team2','own goals team1','own goals team2','forced turnovers team1','forced turnovers team2','defensive pressures applied team1','defensive pressures applied team2'])\n",
    "print(df)"
   ]
  },
  {
   "cell_type": "code",
   "execution_count": 218,
   "metadata": {},
   "outputs": [],
   "source": [
    "# add a new column to represent the target variable\n",
    "#1 if the home team won, -1 if the away team won, and 0 if the match was a draw.\n",
    "# data['outcome'] = data['score'].apply(lambda x: 0 if '-' in x else 1 if int(x[0]) > int(x[2]) else -1)\n",
    "df['winner'] = df.apply(lambda row: 1 if row['number of goals team1'] > row['number of goals team2'] else (-1 if row['number of goals team1'] < row['number of goals team2'] else 0), axis=1)"
   ]
  },
  {
   "cell_type": "code",
   "execution_count": 219,
   "metadata": {},
   "outputs": [],
   "source": [
    "# One-hot encode categorical features\n",
    "X = pd.get_dummies(df[['team1', 'team2']])\n",
    "y = df['winner']"
   ]
  },
  {
   "cell_type": "code",
   "execution_count": 220,
   "metadata": {},
   "outputs": [],
   "source": [
    "# Normalize the input data\n",
    "scaler = StandardScaler()\n",
    "X = scaler.fit_transform(X)\n",
    "\n",
    "\n",
    "# Split the data into training and testing sets\n",
    "X_train, X_test, y_train, y_test = train_test_split(X, y, test_size=0.4, random_state=42)"
   ]
  },
  {
   "cell_type": "code",
   "execution_count": 221,
   "metadata": {},
   "outputs": [],
   "source": [
    "# Create the neural network model\n",
    "model = Sequential()\n",
    "model.add(Dense(128, input_dim=X.shape[1], activation='relu'))\n",
    "model.add(Dropout(0.2))\n",
    "model.add(Dense(64, activation='relu'))\n",
    "model.add(Dropout(0.2))\n",
    "model.add(Dense(32, activation='tanh'))\n",
    "model.add(Dense(1, activation='sigmoid'))"
   ]
  },
  {
   "cell_type": "code",
   "execution_count": 222,
   "metadata": {},
   "outputs": [
    {
     "name": "stdout",
     "output_type": "stream",
     "text": [
      "Epoch 1/25\n",
      "4/4 [==============================] - 1s 3ms/step - loss: 0.8663 - accuracy: 0.4737\n",
      "Epoch 2/25\n",
      "4/4 [==============================] - 0s 3ms/step - loss: 0.7026 - accuracy: 0.4737\n",
      "Epoch 3/25\n",
      "4/4 [==============================] - 0s 3ms/step - loss: 0.6106 - accuracy: 0.3421\n",
      "Epoch 4/25\n",
      "4/4 [==============================] - 0s 3ms/step - loss: 0.4519 - accuracy: 0.2632\n",
      "Epoch 5/25\n",
      "4/4 [==============================] - 0s 3ms/step - loss: 0.3529 - accuracy: 0.2368\n",
      "Epoch 6/25\n",
      "4/4 [==============================] - 0s 3ms/step - loss: 0.2897 - accuracy: 0.2632\n",
      "Epoch 7/25\n",
      "4/4 [==============================] - 0s 3ms/step - loss: 0.2251 - accuracy: 0.2105\n",
      "Epoch 8/25\n",
      "4/4 [==============================] - 0s 2ms/step - loss: 0.2297 - accuracy: 0.2368\n",
      "Epoch 9/25\n",
      "4/4 [==============================] - 0s 2ms/step - loss: 0.0559 - accuracy: 0.3421\n",
      "Epoch 10/25\n",
      "4/4 [==============================] - 0s 3ms/step - loss: -0.0063 - accuracy: 0.3947\n",
      "Epoch 11/25\n",
      "4/4 [==============================] - 0s 3ms/step - loss: -0.1789 - accuracy: 0.4737\n",
      "Epoch 12/25\n",
      "4/4 [==============================] - 0s 2ms/step - loss: -0.2525 - accuracy: 0.4474\n",
      "Epoch 13/25\n",
      "4/4 [==============================] - 0s 2ms/step - loss: -0.3379 - accuracy: 0.5263\n",
      "Epoch 14/25\n",
      "4/4 [==============================] - 0s 2ms/step - loss: -0.5988 - accuracy: 0.5526\n",
      "Epoch 15/25\n",
      "4/4 [==============================] - 0s 3ms/step - loss: -0.5272 - accuracy: 0.5263\n",
      "Epoch 16/25\n",
      "4/4 [==============================] - 0s 2ms/step - loss: -0.6623 - accuracy: 0.6053\n",
      "Epoch 17/25\n",
      "4/4 [==============================] - 0s 9ms/step - loss: -0.9496 - accuracy: 0.6053\n",
      "Epoch 18/25\n",
      "4/4 [==============================] - 0s 4ms/step - loss: -1.1252 - accuracy: 0.6579\n",
      "Epoch 19/25\n",
      "4/4 [==============================] - 0s 4ms/step - loss: -1.0583 - accuracy: 0.6053\n",
      "Epoch 20/25\n",
      "4/4 [==============================] - 0s 3ms/step - loss: -1.0528 - accuracy: 0.6053\n",
      "Epoch 21/25\n",
      "4/4 [==============================] - 0s 3ms/step - loss: -1.2993 - accuracy: 0.6316\n",
      "Epoch 22/25\n",
      "4/4 [==============================] - 0s 3ms/step - loss: -1.4800 - accuracy: 0.6579\n",
      "Epoch 23/25\n",
      "4/4 [==============================] - 0s 2ms/step - loss: -1.5649 - accuracy: 0.6316\n",
      "Epoch 24/25\n",
      "4/4 [==============================] - 0s 2ms/step - loss: -1.6789 - accuracy: 0.6579\n",
      "Epoch 25/25\n",
      "4/4 [==============================] - 0s 3ms/step - loss: -1.7144 - accuracy: 0.6579\n"
     ]
    },
    {
     "data": {
      "text/plain": [
       "<keras.callbacks.History at 0x1dcc0c592a0>"
      ]
     },
     "execution_count": 222,
     "metadata": {},
     "output_type": "execute_result"
    }
   ],
   "source": [
    "# Compile the model\n",
    "model.compile(loss='binary_crossentropy', optimizer='adam', metrics=['accuracy'])\n",
    "\n",
    "# Train the model\n",
    "model.fit(X_train, y_train, epochs=25, batch_size=16,verbose=1)"
   ]
  },
  {
   "cell_type": "code",
   "execution_count": 223,
   "metadata": {},
   "outputs": [
    {
     "name": "stdout",
     "output_type": "stream",
     "text": [
      "1/1 [==============================] - 0s 140ms/step - loss: 1.0866 - accuracy: 0.3462\n",
      "Loss: 1.0865721702575684\n",
      "Accuracy: 0.3461538553237915\n"
     ]
    }
   ],
   "source": [
    "\n",
    "# Evaluate the model\n",
    "loss, accuracy = model.evaluate(X_test, y_test)\n",
    "print(\"Loss:\", loss)\n",
    "print(\"Accuracy:\", accuracy)"
   ]
  }
 ],
 "metadata": {
  "kernelspec": {
   "display_name": "Python 3",
   "language": "python",
   "name": "python3"
  },
  "language_info": {
   "codemirror_mode": {
    "name": "ipython",
    "version": 3
   },
   "file_extension": ".py",
   "mimetype": "text/x-python",
   "name": "python",
   "nbconvert_exporter": "python",
   "pygments_lexer": "ipython3",
   "version": "3.10.11"
  },
  "orig_nbformat": 4
 },
 "nbformat": 4,
 "nbformat_minor": 2
}
